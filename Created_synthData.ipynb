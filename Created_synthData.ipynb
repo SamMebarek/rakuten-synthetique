{
 "cells": [
  {
   "cell_type": "markdown",
   "metadata": {},
   "source": [
    "Rappel du contexte : \n",
    "\n",
    "Nous sommes en projet pour rakuten pour résoudre la problématique de fixation de prix. \n",
    "\n",
    "Nous avons initialement tenté d'obtenir des données pertinentes en effectuant du Web Scrapping sur Rakuten. Nous avons rencontré une problématique :\n",
    "- Manque d'information nootamment sur l'historiques et la temporallité nécessaires à l'étude de la variation des prix. \n",
    "\n",
    "\n",
    "Cela représente un obstacle conséquent et la générationd e données synthétique est devenu une solution incontournable :\n",
    "- Modélisation de divers scénarios de prix en fonction de la saisonnalité, promotion, demande et des événement économiques spécifiques... \n",
    "- imitation des variation de prix observées dans le monde réel, ce qui est essentiel pour tester notre modèle de manière réaliste. \n",
    "- Contrôle total de la données : introduction d'anomalie ou ajout de tendance spécifique pour vérifier la robustesse de nos algorithmes. \n",
    "- Scraping peut soulever des questions légales ce qui élimine cet préocupation\n",
    "- Le volume et la vriété des données est ajustable\n"
   ]
  },
  {
   "cell_type": "markdown",
   "metadata": {},
   "source": [
    "Pour générer des données synthétiques, nous pouvons introduire des variations sur les prix des produits en fonction de différents facteurs comme la saisonnalité, la demande, etc. Voici quelques idées de variations :\n",
    "\n",
    "- Saisonnalité : certains produits peuvent avoir des prix plus élevés ou plus bas à certaines périodes de l'année (par exemple, les produits liés aux fêtes de fin d'année).\n",
    "- Fortes demandes : les prix peuvent augmenter lors de périodes de forte demande (par exemple, les nouveaux lancements de produits).\n",
    "- Promotions et réductions : les prix peuvent baisser lors de périodes de soldes ou de promotions.\n",
    "- Inflation ou déflation : les prix peuvent augmenter ou diminuer légèrement sur une longue période en raison de l'inflation ou de la déflation."
   ]
  },
  {
   "cell_type": "markdown",
   "metadata": {},
   "source": [
    "La génération de données synthétiques doit respecter plusieurs règles pour garantir que les données créées sont réalistes et utiles pour les analyses ultérieures.\n",
    "- Réalisme : variations de prix doivent être réalistes et basées sur des facteurs réels comme la saisonnalité, les fortes demandes, les promotions, l'inflation, et les événements exceptionnels. Dans le script, les fonctions de variation de prix utilisent des multiplicateurs réalistes basés sur des observations courantes (par exemple, une augmentation de prix de 10-30% en décembre pour les produits de fête).\n",
    "\n",
    "- Aléatoire contrôlé : variations doivent introduire de l'aléatoire pour simuler des fluctuations naturelles mais de manière contrôlée pour rester dans des limites réalistes. Le script utilise np.random.uniform pour introduire de l'aléatoire dans les multiplicateurs de prix, mais les bornes de ces multiplicateurs sont définies pour rester réalistes.\n",
    "\n",
    "- Consistance : données doivent rester cohérentes avec les caractéristiques des produits et les comportements de marché. Le script applique les mêmes règles de variation de prix de manière cohérente pour tous les produits et sur tous les mois de l'année.\n",
    "\n",
    "- Diversité : variations doivent couvrir différents scénarios pour permettre des analyses variées. Le script couvre plusieurs types de variations : saisonnalité, fortes demandes, promotions, inflation, événements exceptionnels, et variations régionales.\n",
    "\n",
    "- Documenté et traçable : règles de génération doivent être bien documentées pour comprendre comment les données ont été créées. Le script documente chaque fonction de variation avec des commentaires expliquant les logiques derrière les variations."
   ]
  },
  {
   "cell_type": "code",
   "execution_count": 1,
   "metadata": {},
   "outputs": [],
   "source": [
    "import pandas as pd\n",
    "import numpy as np\n",
    "import pandas as pd\n",
    "import matplotlib.pyplot as plt\n",
    "from datetime import timedelta, datetime"
   ]
  },
  {
   "cell_type": "markdown",
   "metadata": {},
   "source": [
    "Notre jeu de donnée est récupéré sur Kaggle ( https://www.kaggle.com/datasets/promptcloud/amazon-france-product-dataset )\n",
    "C'est un jeu de données qui reprends les produits, caractéristique, date et prix de Amazon. \n",
    "\n",
    "Amazon étant aussi une platefome de e-commerce, l'analyse initial semble pertinente pour entrainer notre modèle. A défault de possédé des données interne de Rakuten. \n",
    "Nous partons dans l'optique qui si nous étions en interne, nous pourrions récuperer ce genre de doonnées. \n"
   ]
  },
  {
   "cell_type": "code",
   "execution_count": 2,
   "metadata": {},
   "outputs": [],
   "source": [
    "df = pd.read_csv('data_initial.tsv', sep='\\t')"
   ]
  },
  {
   "cell_type": "code",
   "execution_count": 3,
   "metadata": {},
   "outputs": [
    {
     "name": "stdout",
     "output_type": "stream",
     "text": [
      "<class 'pandas.core.frame.DataFrame'>\n",
      "RangeIndex: 30000 entries, 0 to 29999\n",
      "Data columns (total 32 columns):\n",
      " #   Column                           Non-Null Count  Dtype  \n",
      "---  ------                           --------------  -----  \n",
      " 0   Uniq Id                          30000 non-null  object \n",
      " 1   Crawl Timestamp                  30000 non-null  object \n",
      " 2   Dataset Origin                   0 non-null      float64\n",
      " 3   Product Id                       30000 non-null  object \n",
      " 4   Product Barcode                  17 non-null     object \n",
      " 5   Product Company Type Source      30000 non-null  object \n",
      " 6   Product Brand Source             0 non-null      float64\n",
      " 7   Product Brand Normalised Source  0 non-null      float64\n",
      " 8   Product Name Source              0 non-null      float64\n",
      " 9   Match Rank                       0 non-null      float64\n",
      " 10  Match Score                      0 non-null      float64\n",
      " 11  Match Type                       0 non-null      float64\n",
      " 12  Retailer                         30000 non-null  object \n",
      " 13  Product Category                 28697 non-null  object \n",
      " 14  Product Brand                    30000 non-null  object \n",
      " 15  Product Name                     30000 non-null  object \n",
      " 16  Product Price                    27220 non-null  object \n",
      " 17  Sku                              30000 non-null  object \n",
      " 18  Upc                              0 non-null      float64\n",
      " 19  Product Url                      30000 non-null  object \n",
      " 20  Market                           30000 non-null  object \n",
      " 21  Product Description              26643 non-null  object \n",
      " 22  Product Currency                 30000 non-null  object \n",
      " 23  Product Available Inventory      30000 non-null  int64  \n",
      " 24  Product Image Url                29612 non-null  object \n",
      " 25  Product Model Number             0 non-null      float64\n",
      " 26  Product Tags                     30000 non-null  object \n",
      " 27  Product Contents                 28525 non-null  object \n",
      " 28  Product Rating                   30000 non-null  float64\n",
      " 29  Product Reviews Count            30000 non-null  int64  \n",
      " 30  Bsr                              572 non-null    object \n",
      " 31  Joining Key                      30000 non-null  object \n",
      "dtypes: float64(10), int64(2), object(20)\n",
      "memory usage: 7.3+ MB\n"
     ]
    }
   ],
   "source": [
    "df.info()"
   ]
  },
  {
   "cell_type": "markdown",
   "metadata": {},
   "source": [
    "La colonne 'Product Price' n'est pas au bon format pour la réalisation de nos futures fonctions de variaton. "
   ]
  },
  {
   "cell_type": "code",
   "execution_count": 4,
   "metadata": {},
   "outputs": [],
   "source": [
    "df['Product Price'] = df['Product Price'].str.replace('[\\$,]', '', regex=True)"
   ]
  },
  {
   "cell_type": "code",
   "execution_count": 5,
   "metadata": {},
   "outputs": [],
   "source": [
    "df['Product Price'] = df['Product Price'].astype(float)"
   ]
  },
  {
   "cell_type": "code",
   "execution_count": 6,
   "metadata": {},
   "outputs": [
    {
     "name": "stdout",
     "output_type": "stream",
     "text": [
      "float64\n"
     ]
    }
   ],
   "source": [
    "print(df['Product Price'].dtype)"
   ]
  },
  {
   "cell_type": "markdown",
   "metadata": {},
   "source": [
    "# Fonction pour générer variation prix en fonction du type de variation"
   ]
  },
  {
   "cell_type": "markdown",
   "metadata": {},
   "source": [
    "## Saisonnalité et forte demande\n",
    "- Les produits peuvent avoir des prix + élevés en pour les fêtes de fin d'année (décembre) et plus bas en janvier\n",
    "- Produit peuvent avoir des prix + élevés en juillet / août en raison des vancances"
   ]
  },
  {
   "cell_type": "code",
   "execution_count": 7,
   "metadata": {},
   "outputs": [],
   "source": [
    "def apply_seasonality(base_price, month):\n",
    "    if month in [12]:\n",
    "        return base_price * np.random.uniform(1.1, 1.3)\n",
    "    elif month in [1]:\n",
    "        return base_price * np.random.uniform(0.7, 0.9)\n",
    "    elif month in [7, 8]:\n",
    "        return base_price * np.random.uniform(1.05, 1.2)\n",
    "    return base_price"
   ]
  },
  {
   "cell_type": "markdown",
   "metadata": {},
   "source": [
    "## Promotions, réductions et soldes\n",
    "Les produits peuvent avoir des prix plus bas pendant :\n",
    "- les promotions de novembre (Black Friday)\n",
    "- soldes en France en 2020 :\n",
    "    - Soldes d'hiver : 8 janvier au 4 février 2020\n",
    "    - Soldes d'été : 15 juillet au 11 août 2020\n",
    "\n",
    "\n"
   ]
  },
  {
   "cell_type": "code",
   "execution_count": 8,
   "metadata": {},
   "outputs": [],
   "source": [
    "def apply_promotions(base_price, date):\n",
    "    # Définir les périodes de soldes hiver et été\n",
    "    soldes_hiver = pd.date_range(start='2020-01-08', end='2020-02-04')\n",
    "    soldes_ete = pd.date_range(start='2020-07-15', end='2020-08-11')\n",
    "    \n",
    "    # Vérifier si la date est dans les soldes hiver ou été\n",
    "    if date in soldes_hiver or date in soldes_ete:\n",
    "        return base_price * np.random.uniform(0.7, 0.95)\n",
    "    \n",
    "    # Vérifier si le mois est novembre\n",
    "    if date.month == 11:\n",
    "        return base_price * np.random.uniform(0.8, 0.95)\n",
    "\n",
    "    \n",
    "    # Retourner le prix de base si aucune promotion ne s'applique\n",
    "    return base_price"
   ]
  },
  {
   "cell_type": "markdown",
   "metadata": {},
   "source": [
    "## Inflation ou déflation\n",
    "\n",
    "\n",
    "Les prix peuvent fluctuer légèrement chaque mois en raison de l'inflation ou de la déflation.\n",
    "\n",
    "Voici d'après l'insse (https://www.insee.fr/fr/statistiques/5010784#tableau-ipc-g1-fr) les variations de prix à la consomation sur 2020\n",
    "|mois|taux|\n",
    "|----|----|\n",
    "| 1 | 1.5 |\n",
    "| 2 | 1.4 |\n",
    "| 3 | 0.7 |\n",
    "| 4 | 0.3 |\n",
    "| 5 | 0.4 |\n",
    "| 6 | 0.2 |\n",
    "| 7 | 0.8 |\n",
    "| 8 | 0.2 |\n",
    "| 9 | 0.0 |\n",
    "| 10 | 0.0 |\n",
    "| 11 | 0.2 |\n",
    "| 12 | 0.0 |"
   ]
  },
  {
   "cell_type": "code",
   "execution_count": 9,
   "metadata": {},
   "outputs": [],
   "source": [
    "monthly_variations = {\n",
    "    1: 1.5,\n",
    "    2: 1.4,\n",
    "    3: 0.7,\n",
    "    4: 0.3,\n",
    "    5: 0.4,\n",
    "    6: 0.2,\n",
    "    7: 0.8,\n",
    "    8: 0.2,\n",
    "    9: 0.0,\n",
    "    10: 0.0,\n",
    "    11: 0.2,\n",
    "    12: 0.0\n",
    "}\n",
    "def apply_inflation(base_price, month):\n",
    "    variation = monthly_variations.get(month, 1.0)  \n",
    "    # Utilisarion variation spécifique pour le mois\n",
    "\n",
    "    return base_price * (1 + variation / 100)  \n",
    "    # Application variation en pourcentage\n"
   ]
  },
  {
   "cell_type": "markdown",
   "metadata": {},
   "source": [
    "## Événements exceptionnels\n",
    "Les prix peuvent être influencés par des événements comme une crise économique ou un changement de réglementation.\n"
   ]
  },
  {
   "cell_type": "code",
   "execution_count": 10,
   "metadata": {},
   "outputs": [],
   "source": [
    "def apply_special_events(base_price, event):\n",
    "    event_impacts = {\n",
    "        'crisis': np.random.uniform(0.8, 0.9),\n",
    "        'regulation_change': np.random.uniform(1.05, 1.15)\n",
    "    }\n",
    "    return base_price * event_impacts.get(event, 1)"
   ]
  },
  {
   "cell_type": "markdown",
   "metadata": {},
   "source": [
    "# Création données synthétique"
   ]
  },
  {
   "cell_type": "code",
   "execution_count": 11,
   "metadata": {},
   "outputs": [],
   "source": [
    "\n",
    "# Fonction pour générer des données synthétiques et mettre à jour le jeu de données initial\n",
    "def generate_synthetic_data_and_update(data, variation_func, variation_args, filename):\n",
    "    # Échantillonner un sous-ensemble de produits (10%)\n",
    "    np.random.seed(42)  # Pour reproductibilité\n",
    "    products_to_duplicate = data.sample(frac=0.1, random_state=np.random.randint(10000))\n",
    "\n",
    "    synthetic_data = []\n",
    "    for index, row in products_to_duplicate.iterrows():\n",
    "        base_price = row['Product Price']\n",
    "        if pd.isnull(base_price):\n",
    "            continue  # Skip rows with invalid base price\n",
    "        for month in range(1, 13):\n",
    "            new_row = row.copy()\n",
    "            original_timestamp = pd.to_datetime(row['Crawl Timestamp'], errors='coerce')\n",
    "            if pd.isnull(original_timestamp):\n",
    "                continue  # Skip rows with invalid timestamp\n",
    "            new_row['Crawl Timestamp'] = (original_timestamp + pd.DateOffset(months=month)).strftime(\"%Y-%m-%d %H:%M:%S +0000\")\n",
    "            new_row['Product Price'] = variation_func(base_price, **variation_args)\n",
    "            synthetic_data.append(new_row)\n",
    "    synthetic_data_df = pd.DataFrame(synthetic_data)\n",
    "\n",
    "    # Définition chemin complet enregistrer le fichier \n",
    "    file_path = fr'iia-rakuten{filename}.csv'\n",
    "\n",
    "    # Supprimer les produits dupliqués du jeu de données initial\n",
    "    updated_data = data.drop(products_to_duplicate.index)\n",
    "    \n",
    "    return updated_data, synthetic_data_df\n"
   ]
  },
  {
   "cell_type": "code",
   "execution_count": 12,
   "metadata": {},
   "outputs": [],
   "source": [
    "# Initialisation du DataFrame final\n",
    "final_data = df.copy()\n",
    "\n"
   ]
  },
  {
   "cell_type": "code",
   "execution_count": 13,
   "metadata": {},
   "outputs": [],
   "source": [
    "# Génération et Sauvegarde fichiers pour chaque type de variation, et maj jeu de données initial\n",
    "final_data, synthetic_data_seasonality = generate_synthetic_data_and_update(final_data, apply_seasonality, {'month': 1}, 'synthetic_data_seasonality')\n",
    "final_data, synthetic_data_promotions = generate_synthetic_data_and_update(final_data, apply_promotions, {'date': pd.to_datetime('2020-01-01')}, 'synthetic_data_promotions')\n",
    "final_data, synthetic_data_inflation = generate_synthetic_data_and_update(final_data, apply_inflation, {'month': 1}, 'synthetic_data_inflation')\n",
    "final_data, synthetic_data_special_events_crisis = generate_synthetic_data_and_update(final_data, apply_special_events, {'event': 'crisis'}, 'synthetic_data_special_events_crisis')\n",
    "final_data, synthetic_data_special_events_regulation_change = generate_synthetic_data_and_update(final_data, apply_special_events, {'event': 'regulation_change'}, 'synthetic_data_special_events_regulation_change')\n"
   ]
  },
  {
   "cell_type": "code",
   "execution_count": 14,
   "metadata": {},
   "outputs": [],
   "source": [
    "unique_id_column = 'Uniq Id'"
   ]
  },
  {
   "cell_type": "code",
   "execution_count": 15,
   "metadata": {},
   "outputs": [],
   "source": [
    "# Ajout échantillons au DataFrame initial sans créer de doublons\n",
    "all_synthetic_data = pd.concat([synthetic_data_seasonality, synthetic_data_promotions,\n",
    "                                synthetic_data_inflation, synthetic_data_special_events_crisis,\n",
    "                                synthetic_data_special_events_regulation_change])\n",
    "\n",
    "final_combined_data = pd.concat([final_data, all_synthetic_data]).drop_duplicates(subset=[unique_id_column, 'Crawl Timestamp'])\n",
    "\n"
   ]
  },
  {
   "cell_type": "code",
   "execution_count": 21,
   "metadata": {},
   "outputs": [],
   "source": [
    "def clean_data(final_combined_data):\n",
    "    # Drop : 'Dataset Origin', 'Product Barcode' and 14 other columns\n",
    "    final_combined_data = final_combined_data.drop(columns=['Dataset Origin', 'Product Barcode', 'Product Company Type Source', 'Product Brand Source', 'Product Brand Normalised Source', 'Product Name Source', 'Match Rank', 'Match Score', 'Match Type', 'Retailer', 'Upc', 'Market', 'Product Currency', 'Product Model Number', 'Bsr', 'Joining Key'])\n",
    "    return final_combined_data\n",
    "\n",
    "final_combined_data_clean = clean_data(final_combined_data.copy())\n",
    "# Sauvegarde DataFrame final combiné\n",
    "final_combined_data_clean.to_csv(fr'final_combined_data2020.csv', sep=',', index=False)\n",
    "\n"
   ]
  },
  {
   "cell_type": "code",
   "execution_count": 22,
   "metadata": {},
   "outputs": [],
   "source": [
    "df_final = pd.read_csv('final_combined_data2020.csv')"
   ]
  },
  {
   "cell_type": "code",
   "execution_count": 60,
   "metadata": {},
   "outputs": [
    {
     "data": {
      "text/html": [
       "<div>\n",
       "<style scoped>\n",
       "    .dataframe tbody tr th:only-of-type {\n",
       "        vertical-align: middle;\n",
       "    }\n",
       "\n",
       "    .dataframe tbody tr th {\n",
       "        vertical-align: top;\n",
       "    }\n",
       "\n",
       "    .dataframe thead th {\n",
       "        text-align: right;\n",
       "    }\n",
       "</style>\n",
       "<table border=\"1\" class=\"dataframe\">\n",
       "  <thead>\n",
       "    <tr style=\"text-align: right;\">\n",
       "      <th></th>\n",
       "      <th>Uniq Id</th>\n",
       "      <th>Crawl Timestamp</th>\n",
       "      <th>Product Id</th>\n",
       "      <th>Product Category</th>\n",
       "      <th>Product Brand</th>\n",
       "      <th>Product Name</th>\n",
       "      <th>Product Price</th>\n",
       "      <th>Sku</th>\n",
       "      <th>Product Url</th>\n",
       "      <th>Product Description</th>\n",
       "      <th>Product Available Inventory</th>\n",
       "      <th>Product Image Url</th>\n",
       "      <th>Product Tags</th>\n",
       "      <th>Product Contents</th>\n",
       "      <th>Product Rating</th>\n",
       "      <th>Product Reviews Count</th>\n",
       "    </tr>\n",
       "  </thead>\n",
       "  <tbody>\n",
       "    <tr>\n",
       "      <th>53090</th>\n",
       "      <td>9d1cf9d20c0b073bd439a51e2241b766</td>\n",
       "      <td>2021-12-01 23:28:07 +0000</td>\n",
       "      <td>35fa7a57b9ceffe8d1837875987ca2e5</td>\n",
       "      <td>Bricolage &gt; Sécurité &gt; Équipement et matériel ...</td>\n",
       "      <td>Marque : HJFR</td>\n",
       "      <td>HJFR 100PC Adulte Noël imprimé Mas-ques Jetabl...</td>\n",
       "      <td>9.410000</td>\n",
       "      <td>B08MPPWLR8</td>\n",
       "      <td>https://www.amazon.fr/dp/B08MPPWLR8</td>\n",
       "      <td>Bienvenue dans le magasin discount HJFR Descri...</td>\n",
       "      <td>999999999</td>\n",
       "      <td>https://images-na.ssl-images-amazon.com/images...</td>\n",
       "      <td>HJFR 100PC Adulte Noël imprimé Mas-ques Jetabl...</td>\n",
       "      <td>❤【Matériau léger】:Coton+Polyester pour préveni...</td>\n",
       "      <td>0.0</td>\n",
       "      <td>0</td>\n",
       "    </tr>\n",
       "    <tr>\n",
       "      <th>139770</th>\n",
       "      <td>56428b65ad18baa08d3d8238ca6bd07b</td>\n",
       "      <td>2021-03-11 14:35:37 +0000</td>\n",
       "      <td>38cd406043310000846f16cbfc885157</td>\n",
       "      <td>High-Tech &gt; Téléphones portables et accessoire...</td>\n",
       "      <td>Marque : I-CHOOSE LIMITED</td>\n",
       "      <td>I-CHOOSE LIMITED Étui de Téléphone Personnalis...</td>\n",
       "      <td>16.781156</td>\n",
       "      <td>B07PFKSWJ4</td>\n",
       "      <td>https://www.amazon.fr/dp/B07PFKSWJ4</td>\n",
       "      <td>✔️ Sélectionnez le lien &amp;quotAJOUTER LES OPTIO...</td>\n",
       "      <td>999999999</td>\n",
       "      <td>https://images-na.ssl-images-amazon.com/images...</td>\n",
       "      <td>I-CHOOSE LIMITED Étui de Téléphone Personnalis...</td>\n",
       "      <td>Ceci est adapté à votre  . Cliquez-ici pour vo...</td>\n",
       "      <td>0.0</td>\n",
       "      <td>0</td>\n",
       "    </tr>\n",
       "    <tr>\n",
       "      <th>149960</th>\n",
       "      <td>60569cf8234c5ddc8aac39eb707d180c</td>\n",
       "      <td>2021-04-29 06:38:46 +0000</td>\n",
       "      <td>98824d579e5305abb07178de7158c8a8</td>\n",
       "      <td>Commerce, Industrie et Science &gt; Fournitures d...</td>\n",
       "      <td>Marque : Deeaar</td>\n",
       "      <td>Coque pour Xiaomi Redmi 7 Protection Housse en...</td>\n",
       "      <td>7.509604</td>\n",
       "      <td>B08GQ617RC</td>\n",
       "      <td>https://www.amazon.fr/dp/B08GQ617RC</td>\n",
       "      <td>Coque compatible avec Xiaomi Redmi 7 Cet Etui ...</td>\n",
       "      <td>999999999</td>\n",
       "      <td>https://images-na.ssl-images-amazon.com/images...</td>\n",
       "      <td>Coque pour Xiaomi Redmi 7 Protection Housse en...</td>\n",
       "      <td>Ceci est adapté à votre  . Cliquez-ici pour vo...</td>\n",
       "      <td>0.0</td>\n",
       "      <td>0</td>\n",
       "    </tr>\n",
       "  </tbody>\n",
       "</table>\n",
       "</div>"
      ],
      "text/plain": [
       "                                 Uniq Id            Crawl Timestamp  \\\n",
       "53090   9d1cf9d20c0b073bd439a51e2241b766  2021-12-01 23:28:07 +0000   \n",
       "139770  56428b65ad18baa08d3d8238ca6bd07b  2021-03-11 14:35:37 +0000   \n",
       "149960  60569cf8234c5ddc8aac39eb707d180c  2021-04-29 06:38:46 +0000   \n",
       "\n",
       "                              Product Id  \\\n",
       "53090   35fa7a57b9ceffe8d1837875987ca2e5   \n",
       "139770  38cd406043310000846f16cbfc885157   \n",
       "149960  98824d579e5305abb07178de7158c8a8   \n",
       "\n",
       "                                         Product Category  \\\n",
       "53090   Bricolage > Sécurité > Équipement et matériel ...   \n",
       "139770  High-Tech > Téléphones portables et accessoire...   \n",
       "149960  Commerce, Industrie et Science > Fournitures d...   \n",
       "\n",
       "                    Product Brand  \\\n",
       "53090               Marque : HJFR   \n",
       "139770  Marque : I-CHOOSE LIMITED   \n",
       "149960            Marque : Deeaar   \n",
       "\n",
       "                                             Product Name  Product Price  \\\n",
       "53090   HJFR 100PC Adulte Noël imprimé Mas-ques Jetabl...       9.410000   \n",
       "139770  I-CHOOSE LIMITED Étui de Téléphone Personnalis...      16.781156   \n",
       "149960  Coque pour Xiaomi Redmi 7 Protection Housse en...       7.509604   \n",
       "\n",
       "               Sku                          Product Url  \\\n",
       "53090   B08MPPWLR8  https://www.amazon.fr/dp/B08MPPWLR8   \n",
       "139770  B07PFKSWJ4  https://www.amazon.fr/dp/B07PFKSWJ4   \n",
       "149960  B08GQ617RC  https://www.amazon.fr/dp/B08GQ617RC   \n",
       "\n",
       "                                      Product Description  \\\n",
       "53090   Bienvenue dans le magasin discount HJFR Descri...   \n",
       "139770  ✔️ Sélectionnez le lien &quotAJOUTER LES OPTIO...   \n",
       "149960  Coque compatible avec Xiaomi Redmi 7 Cet Etui ...   \n",
       "\n",
       "        Product Available Inventory  \\\n",
       "53090                     999999999   \n",
       "139770                    999999999   \n",
       "149960                    999999999   \n",
       "\n",
       "                                        Product Image Url  \\\n",
       "53090   https://images-na.ssl-images-amazon.com/images...   \n",
       "139770  https://images-na.ssl-images-amazon.com/images...   \n",
       "149960  https://images-na.ssl-images-amazon.com/images...   \n",
       "\n",
       "                                             Product Tags  \\\n",
       "53090   HJFR 100PC Adulte Noël imprimé Mas-ques Jetabl...   \n",
       "139770  I-CHOOSE LIMITED Étui de Téléphone Personnalis...   \n",
       "149960  Coque pour Xiaomi Redmi 7 Protection Housse en...   \n",
       "\n",
       "                                         Product Contents  Product Rating  \\\n",
       "53090   ❤【Matériau léger】:Coton+Polyester pour préveni...             0.0   \n",
       "139770  Ceci est adapté à votre  . Cliquez-ici pour vo...             0.0   \n",
       "149960  Ceci est adapté à votre  . Cliquez-ici pour vo...             0.0   \n",
       "\n",
       "        Product Reviews Count  \n",
       "53090                       0  \n",
       "139770                      0  \n",
       "149960                      0  "
      ]
     },
     "execution_count": 60,
     "metadata": {},
     "output_type": "execute_result"
    }
   ],
   "source": [
    "df_final.sample(3)\n"
   ]
  },
  {
   "cell_type": "code",
   "execution_count": 77,
   "metadata": {},
   "outputs": [
    {
     "data": {
      "image/png": "[encoded data removed]",
      "text/plain": [
       "<Figure size 1200x600 with 1 Axes>"
      ]
     },
     "metadata": {},
     "output_type": "display_data"
    }
   ],
   "source": [
    "sku = 'B08NDVBMWS'\n",
    "df_sku = df_final[df_final['Sku'] == sku].copy()\n",
    "\n",
    "df_sku['Crawl Timestamp'] = pd.to_datetime(df_sku['Crawl Timestamp'])\n",
    "df_sku = df_sku.sort_values('Crawl Timestamp')\n",
    "\n",
    "# Calcul de la moyenne mobile \n",
    "df_sku['Moving Average'] = df_sku['Product Price'].rolling(window=2).mean()\n",
    "\n",
    "# Tracé\n",
    "plt.figure(figsize=(12, 6))\n",
    "plt.plot(df_sku['Crawl Timestamp'], df_sku['Product Price'], label='Prix du produit')\n",
    "plt.plot(df_sku['Crawl Timestamp'], df_sku['Moving Average'], color='green', label='Moyenne mobile')\n",
    "\n",
    "# Ajout dess annotations pour chaque point de prix\n",
    "for i in range(len(df_sku)):\n",
    "    plt.annotate(f\"{df_sku['Product Price'].iloc[i]:.2f}\", \n",
    "                 (df_sku['Crawl Timestamp'].iloc[i], df_sku['Product Price'].iloc[i]), \n",
    "                 textcoords=\"offset points\", \n",
    "                 xytext=(0,10), \n",
    "                 ha='center',\n",
    "                 color='blue')\n",
    "\n",
    "# Ajout dess annotations pour chaque point de la moyenne mobile\n",
    "for i in range(len(df_sku)):\n",
    "    if not pd.isna(df_sku['Moving Average'].iloc[i]):  # Vérifier les valeurs NaN\n",
    "        plt.annotate(f\"{df_sku['Moving Average'].iloc[i]:.2f}\", \n",
    "                     (df_sku['Crawl Timestamp'].iloc[i], df_sku['Moving Average'].iloc[i]), \n",
    "                     textcoords=\"offset points\", \n",
    "                     xytext=(20, 0), \n",
    "                     ha='center', \n",
    "                     color='green')\n",
    "\n",
    "# Ajout du prix moyen comme ligne horizontale\n",
    "average_price = df_sku['Product Price'].mean()\n",
    "plt.axhline(average_price, color='red', linestyle='--', label=f'Prix moyen : {average_price:.2f}')\n",
    "\n",
    "plt.xlabel('Date')\n",
    "plt.ylabel('Prix')\n",
    "plt.title(f'Évolution du prix pour le produit {sku}')\n",
    "plt.legend()\n",
    "plt.show()\n"
   ]
  }
 ],
 "metadata": {
  "kernelspec": {
   "display_name": "projetct",
   "language": "python",
   "name": "python3"
  },
  "language_info": {
   "codemirror_mode": {
    "name": "ipython",
    "version": 3
   },
   "file_extension": ".py",
   "mimetype": "text/x-python",
   "name": "python",
   "nbconvert_exporter": "python",
   "pygments_lexer": "ipython3",
   "version": "3.12.3"
  }
 },
 "nbformat": 4,
 "nbformat_minor": 2
}
